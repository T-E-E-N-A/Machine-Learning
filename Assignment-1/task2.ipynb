{
 "cells": [
  {
   "cell_type": "code",
   "execution_count": 2,
   "id": "5800d919",
   "metadata": {},
   "outputs": [
    {
     "name": "stdout",
     "output_type": "stream",
     "text": [
      "Data written to students_grades.csv successfully.\n",
      "Data read from students_grades.csv successfully.\n",
      "[['Student', 'Subject', 'Grade'], ['Tisha', 'Math', 'A+'], ['Teena', 'Science', 'O'], ['Sneha', 'English', 'A-'], ['Aman', 'History', 'B']]\n"
     ]
    }
   ],
   "source": [
    "import csv\n",
    "\n",
    "# Create a new 2D array (e.g., students and grades)\n",
    "data = [\n",
    "    [\"Student\", \"Subject\", \"Grade\"],\n",
    "    [\"Tisha\", \"Math\", \"A+\"],\n",
    "    [\"Teena\", \"Science\", \"O\"],\n",
    "    [\"Sneha\", \"English\", \"A-\"],\n",
    "    [\"Aman\", \"History\", \"B\"]\n",
    "]\n",
    "\n",
    "# Write to CSV file\n",
    "def write_to_csv(filename, data):\n",
    "    with open(filename, 'w', newline='') as file:\n",
    "        writer = csv.writer(file)\n",
    "        writer.writerows(data)\n",
    "    print(f\"Data written to {filename} successfully.\")\n",
    "\n",
    "# Read from CSV file\n",
    "def read_from_csv(filename):\n",
    "    with open(filename, 'r') as file:\n",
    "        reader = csv.reader(file)\n",
    "        data = list(reader)\n",
    "    print(f\"Data read from {filename} successfully.\")\n",
    "    return data\n",
    "\n",
    "# Usage\n",
    "filename = 'students_grades.csv'\n",
    "write_to_csv(filename, data)\n",
    "read_data = read_from_csv(filename)\n",
    "print(read_data)"
   ]
  },
  {
   "cell_type": "code",
   "execution_count": null,
   "id": "71fe7fa9",
   "metadata": {},
   "outputs": [],
   "source": []
  }
 ],
 "metadata": {
  "kernelspec": {
   "display_name": "Python 3",
   "language": "python",
   "name": "python3"
  },
  "language_info": {
   "codemirror_mode": {
    "name": "ipython",
    "version": 3
   },
   "file_extension": ".py",
   "mimetype": "text/x-python",
   "name": "python",
   "nbconvert_exporter": "python",
   "pygments_lexer": "ipython3",
   "version": "3.13.5"
  }
 },
 "nbformat": 4,
 "nbformat_minor": 5
}

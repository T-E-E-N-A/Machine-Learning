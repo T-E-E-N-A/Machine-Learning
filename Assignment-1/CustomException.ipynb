{
 "cells": [
  {
   "cell_type": "code",
   "execution_count": null,
   "id": "389def4b",
   "metadata": {},
   "outputs": [],
   "source": [
    "# TASK-1\n",
    "# custom error creation\n",
    "# check for valid email domains only\n",
    "\n",
    "class invalidEmail(Exception):\n",
    "    pass\n",
    "\n",
    "def validateEmail(id):\n",
    "    valid = ['@gmail.com','@yahoo.com','@outlook.com','@github.com']\n",
    "    # if every value is false\n",
    "    if not any(id.endswith(mail) for mail in valid):\n",
    "        raise invalidEmail(f\"Invalid Email domain. Allowed domains are {(',').join(valid)} only!\")\n",
    "    else:\n",
    "        print(\"Your domain is verified!!\")\n"
   ]
  },
  {
   "cell_type": "code",
   "execution_count": 9,
   "id": "6aa21940",
   "metadata": {},
   "outputs": [
    {
     "name": "stdout",
     "output_type": "stream",
     "text": [
      "Our website doesn't support all types of domain. Kindly verify your domain\n",
      "Your domain is verified!!\n",
      "Thankyou for visiting our page\n"
     ]
    }
   ],
   "source": [
    "# let's try our created exception if working properly or not\n",
    "\n",
    "print(\"Our website doesn't support all types of domain. Kindly verify your domain\")\n",
    "try:\n",
    "    mail_id = input(\"Enter mail id:\")\n",
    "    validateEmail(mail_id)\n",
    "except invalidEmail as e:\n",
    "    print(e)\n",
    "finally:\n",
    "    print(\"Thankyou for visiting our page\")"
   ]
  }
 ],
 "metadata": {
  "kernelspec": {
   "display_name": "Python 3",
   "language": "python",
   "name": "python3"
  },
  "language_info": {
   "codemirror_mode": {
    "name": "ipython",
    "version": 3
   },
   "file_extension": ".py",
   "mimetype": "text/x-python",
   "name": "python",
   "nbconvert_exporter": "python",
   "pygments_lexer": "ipython3",
   "version": "3.13.5"
  }
 },
 "nbformat": 4,
 "nbformat_minor": 5
}

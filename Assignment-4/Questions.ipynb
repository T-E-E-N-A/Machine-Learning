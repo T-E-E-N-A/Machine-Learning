{
 "cells": [
  {
   "cell_type": "markdown",
   "id": "d3f39b72",
   "metadata": {},
   "source": [
    "#  <hr> Question/Answers<hr>"
   ]
  },
  {
   "cell_type": "markdown",
   "id": "e8024ce7",
   "metadata": {},
   "source": [
    "## What are the assumptions of linear regression?"
   ]
  },
  {
   "cell_type": "markdown",
   "id": "03614edf",
   "metadata": {},
   "source": [
    "- Linearity: The relationship between independent and dependent variables is linear.\n",
    "\n",
    "- Homoscedasticity: Constant variance of residuals across all levels of the predictor.\n",
    "\n",
    "- Independence: Observations are independent of one another.\n",
    "\n",
    "- Normality: Residuals are normally distributed. Violations of these assumptions can lead to biased or inefficient estimates."
   ]
  },
  {
   "cell_type": "markdown",
   "id": "9cd2fbec",
   "metadata": {},
   "source": [
    "<hr>\n",
    "\n",
    "##  When should you use logistic regression instead of linear regression?"
   ]
  },
  {
   "cell_type": "markdown",
   "id": "7ed86b00",
   "metadata": {},
   "source": [
    "-> Logistic regression is used when the target variable is categorical, particularly binary (e.g., yes/no, spam/not spam). Unlike linear regression, it outputs probabilities between 0 and 1, making it ideal for classification tasks where outputs must be interpreted as class membership."
   ]
  },
  {
   "cell_type": "markdown",
   "id": "370bda0c",
   "metadata": {},
   "source": [
    "<hr>\n",
    "\n",
    "## What is the interpretation of coefficients in logistic regression? "
   ]
  },
  {
   "cell_type": "markdown",
   "id": "b29fc77a",
   "metadata": {},
   "source": [
    "The coefficient (β) in logistic regression represents the change in the log odds of the response variable for a one-unit increase in the predictor variable.<br>\n",
    "\n",
    "    The chance of getting a “Yes” outcome changes when a feature increases by one unit — while keeping all other features the same."
   ]
  },
  {
   "cell_type": "markdown",
   "id": "2f56628e",
   "metadata": {},
   "source": [
    "<hr>\n",
    "\n",
    "## What is the difference between sigmoid and softmax functions?"
   ]
  },
  {
   "cell_type": "markdown",
   "id": "729fb3dd",
   "metadata": {},
   "source": [
    "- Sigmoid outputs a single probability between 0 and 1 — perfect for binary classification.\n",
    "- Softmax outputs a vector of probabilities that sum to 1 — ideal for multiclass classification. <br>\n",
    "Both are used to transform raw scores (logits) into interpretable probabilities."
   ]
  },
  {
   "cell_type": "markdown",
   "id": "bc896c34",
   "metadata": {},
   "source": [
    "<hr>\n",
    "\n",
    "## Why is R-squared not suitable for evaluating logistic regression models?"
   ]
  },
  {
   "cell_type": "markdown",
   "id": "70ee5dce",
   "metadata": {},
   "source": [
    "R-squared measures the proportion of variance explained — a concept based on continuous output. Since logistic regression deals with class predictions and probabilities, metrics like AUC, accuracy, precision, and recall provide more relevant evaluation for classification performance."
   ]
  }
 ],
 "metadata": {
  "language_info": {
   "name": "python"
  }
 },
 "nbformat": 4,
 "nbformat_minor": 5
}

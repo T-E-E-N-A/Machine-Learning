{
 "cells": [
  {
   "cell_type": "code",
   "execution_count": 23,
   "id": "83caa788",
   "metadata": {},
   "outputs": [],
   "source": [
    "import numpy as np\n",
    "import time"
   ]
  },
  {
   "cell_type": "code",
   "execution_count": 24,
   "id": "50bd6637",
   "metadata": {},
   "outputs": [],
   "source": [
    "# Create a 1D NumPy array of 10 integers ranging from 1 to 10. \n",
    "# Create a 2D NumPy array of shape (3, 3) with integers from 1 to 9. \n",
    "# Create a 3D NumPy array with random floating-point numbers of shape (3, 5, 3).\n",
    "# Display the shape, size, and datatype of each array. \n",
    "# 10 not included"
   ]
  },
  {
   "cell_type": "code",
   "execution_count": 25,
   "id": "5735697f",
   "metadata": {},
   "outputs": [
    {
     "name": "stdout",
     "output_type": "stream",
     "text": [
      "[1 2 3 4 5 6 7 8 9]  \n",
      "shape: (9,)  Size: 9  DataType: int64\n",
      "[[1 2 3]\n",
      " [4 5 6]\n",
      " [7 8 9]]  \n",
      "shape: (3, 3)  Size: 9  DataType: int64\n",
      "[[[0.31453523 0.24536327 0.29978631]\n",
      "  [0.66787487 0.60821665 0.91939049]\n",
      "  [0.97634953 0.75727876 0.6517547 ]\n",
      "  [0.08702341 0.97967341 0.17398757]\n",
      "  [0.36286216 0.36059063 0.81785227]]\n",
      "\n",
      " [[0.92504153 0.9366194  0.75302855]\n",
      "  [0.91696517 0.42909501 0.87928453]\n",
      "  [0.3528847  0.3752781  0.86328675]\n",
      "  [0.98392538 0.70865552 0.79184065]\n",
      "  [0.31201496 0.90018212 0.7548277 ]]\n",
      "\n",
      " [[0.01535289 0.1127162  0.41846754]\n",
      "  [0.92145288 0.74969875 0.008858  ]\n",
      "  [0.56144202 0.16418514 0.00750271]\n",
      "  [0.17199357 0.15328684 0.13833132]\n",
      "  [0.22135021 0.20135083 0.58908558]]]  \n",
      "shape: (3, 5, 3)  Size: 45  DataType: float64\n"
     ]
    }
   ],
   "source": [
    "arr1 = np.arange(1,10)\n",
    "print(arr1,\" \\nshape:\",arr1.shape,\" Size:\",arr1.size , \" DataType:\" , arr1.dtype)\n",
    "arr2 = arr1.reshape(3,3)\n",
    "print(arr2,\" \\nshape:\",arr2.shape,\" Size:\",arr2.size , \" DataType:\" , arr2.dtype)\n",
    "arr3 = np.random.rand(3, 5, 3)\n",
    "print(arr3,\" \\nshape:\",arr3.shape,\" Size:\",arr3.size , \" DataType:\" , arr3.dtype)"
   ]
  },
  {
   "cell_type": "code",
   "execution_count": 26,
   "id": "58eebb2b",
   "metadata": {},
   "outputs": [],
   "source": [
    "# 1. Create a NumPy array from the following list:  \n",
    "#       data = [10, 20, 30, 40, 50, 60, 70, 80, 90] \n",
    "# 2. Write a Python program to:  \n",
    "#       o Retrieve the first three elements of the array. \n",
    "#       o Retrieve every alternate element of the array. \n",
    "#       o Reverse the array. \n",
    "# 3. Perform the above operations and display the results. "
   ]
  },
  {
   "cell_type": "code",
   "execution_count": 27,
   "id": "845ca38a",
   "metadata": {},
   "outputs": [
    {
     "name": "stdout",
     "output_type": "stream",
     "text": [
      "First three elements :  [10 20 30]\n",
      "Alternative elements :  [10 30 50 70 90]\n",
      "Reversed Array :  [90 80 70 60 50 40 30 20 10]\n"
     ]
    }
   ],
   "source": [
    "data = [10, 20, 30, 40, 50, 60, 70, 80, 90]\n",
    "arr = np.array(data)\n",
    "print(\"First three elements : \",arr[0:3])\n",
    "print(\"Alternative elements : \", arr[::2])\n",
    "print(\"Reversed Array : \",arr[::-1])"
   ]
  },
  {
   "cell_type": "code",
   "execution_count": 28,
   "id": "268b8533",
   "metadata": {},
   "outputs": [],
   "source": [
    "# Create two NumPy arrays, A and B, each with 5 random integers between 1 and 20. \n",
    "# 2. Write a Python program to:  \n",
    "#       o Add, subtract, multiply, and divide the two arrays elementwise. \n",
    "#       o Compute the dot product of the arrays. \n",
    "#       o Find the mean, median, standard deviation, and variance of array A. \n",
    "#       o Identify the maximum and minimum values in array B and their indices."
   ]
  },
  {
   "cell_type": "code",
   "execution_count": 29,
   "id": "504e19f9",
   "metadata": {},
   "outputs": [
    {
     "name": "stdout",
     "output_type": "stream",
     "text": [
      "[18 10 11 11 15]   [ 6 13  6 19 18]\n",
      "Addition:  [24 23 17 30 33]\n",
      "Subtract:  [12 -3  5 -8 -3]\n",
      "multiply:  [108 130  66 209 270]\n",
      "division:  [3.         0.76923077 1.83333333 0.57894737 0.83333333]\n",
      "dot product :  783\n",
      "\n",
      "Array1\n",
      "Mean:  13.0\n",
      "Median:  11.0\n",
      "Standard Deviation:  3.03315017762062\n",
      "Variance:  9.2\n",
      "\n",
      "Array2\n",
      "Maximum  19  Index: 3\n",
      "Minimum  6  Index: 0\n"
     ]
    }
   ],
   "source": [
    "arr1 = np.random.randint(1,20,5)\n",
    "arr2 = np.random.randint(1,20,size=(5))\n",
    "print(arr1,\" \",arr2)\n",
    "print(\"Addition: \" , arr1 + arr2)\n",
    "print(\"Subtract: \" , arr1 - arr2)\n",
    "print(\"multiply: \" , arr1 * arr2)\n",
    "print(\"division: \" , arr1 / arr2)\n",
    "print(\"dot product : \",np.dot(arr1,arr2))\n",
    "\n",
    "print(\"\\nArray1\")\n",
    "print(\"Mean: \" , np.mean(arr1))\n",
    "print(\"Median: \" , np.median(arr1))\n",
    "print(\"Standard Deviation: \",np.std(arr1))\n",
    "print(\"Variance: \" , np.var(arr1))\n",
    "\n",
    "print(\"\\nArray2\")\n",
    "print(\"Maximum \" , np.max(arr2) , \" Index:\", np.argmax(arr2))\n",
    "print(\"Minimum \" , np.min(arr2) , \" Index:\", np.argmin(arr2))"
   ]
  },
  {
   "cell_type": "code",
   "execution_count": 30,
   "id": "029bd33b",
   "metadata": {},
   "outputs": [],
   "source": [
    "# 1. Create a 1D NumPy array of 12 integers ranging from 1 to 12. \n",
    "# 2. Write a Python program to:  \n",
    "#       o Reshape the array into a 2D array of shape (4, 3). \n",
    "#       o Reshape the array into a 3D array of shape (2, 2, 3). \n",
    "#       o Transpose the reshaped 2D array and display its shape. "
   ]
  },
  {
   "cell_type": "code",
   "execution_count": 31,
   "id": "ae6af8f1",
   "metadata": {},
   "outputs": [
    {
     "name": "stdout",
     "output_type": "stream",
     "text": [
      "[ 1  2  3  4  5  6  7  8  9 10 11 12] \n",
      "\n",
      "[[ 1  2  3]\n",
      " [ 4  5  6]\n",
      " [ 7  8  9]\n",
      " [10 11 12]]  \n",
      "shape: (4, 3) \n",
      "\n",
      "[[[ 1  2  3]\n",
      "  [ 4  5  6]]\n",
      "\n",
      " [[ 7  8  9]\n",
      "  [10 11 12]]]  \n",
      "shape: (2, 2, 3) \n",
      "\n",
      "[[[ 1  7]\n",
      "  [ 4 10]]\n",
      "\n",
      " [[ 2  8]\n",
      "  [ 5 11]]\n",
      "\n",
      " [[ 3  9]\n",
      "  [ 6 12]]]  \n",
      "shape: (3, 2, 2)\n"
     ]
    }
   ],
   "source": [
    "arr = np.arange(1,13)\n",
    "print(arr,\"\\n\")\n",
    "\n",
    "arr1 = arr.reshape(4,3)\n",
    "print(arr1,\" \\nshape:\",arr1.shape , \"\\n\")\n",
    "\n",
    "arr2 = arr.reshape(2,2,3)\n",
    "print(arr2,\" \\nshape:\",arr2.shape , \"\\n\")\n",
    "\n",
    "arr3 = arr2.transpose()\n",
    "print(arr3,\" \\nshape:\",arr3.shape)"
   ]
  },
  {
   "cell_type": "code",
   "execution_count": 32,
   "id": "8abc9d75",
   "metadata": {},
   "outputs": [],
   "source": [
    "# 1. Create a NumPy array with 15 random integers between 10 and 50. \n",
    "# 2. Write a Python program to:  \n",
    "#       o Find all elements greater than 25. \n",
    "#       o Replace all elements less than 30 with 0. \n",
    "#       o Count the number of elements divisible by 5."
   ]
  },
  {
   "cell_type": "code",
   "execution_count": 33,
   "id": "c383466e",
   "metadata": {},
   "outputs": [
    {
     "name": "stdout",
     "output_type": "stream",
     "text": [
      "[26 35 26 49 32 31 40 50 34 41 44]\n",
      "[ 0 35  0 49 32 31  0  0 40 50 34 41  0 44  0]\n",
      "divisible by 5 :  9\n"
     ]
    }
   ],
   "source": [
    "arr = np.random.randint(10,51,15)\n",
    "print(arr[arr>25])\n",
    "\n",
    "arr[arr<30]=0\n",
    "print(arr)\n",
    "\n",
    "print(\"divisible by 5 : \" , np.sum(arr%5==0))"
   ]
  },
  {
   "cell_type": "code",
   "execution_count": 34,
   "id": "8c35688b",
   "metadata": {},
   "outputs": [],
   "source": [
    "# Use NumPy's built-in functions to:  \n",
    "#       o Create an array of 10 equally spaced values between 0 and 1. \n",
    "#       o Create an identity matrix of size 4x4. \n",
    "#       o Generate a 1D array of 20 random integers between 1 and 100, sort it and find the 5 largest elements."
   ]
  },
  {
   "cell_type": "code",
   "execution_count": 35,
   "id": "07fe4aca",
   "metadata": {},
   "outputs": [
    {
     "name": "stdout",
     "output_type": "stream",
     "text": [
      "[0.         0.11111111 0.22222222 0.33333333 0.44444444 0.55555556\n",
      " 0.66666667 0.77777778 0.88888889 1.        ]\n",
      "[[1. 0. 0. 0.]\n",
      " [0. 1. 0. 0.]\n",
      " [0. 0. 1. 0.]\n",
      " [0. 0. 0. 1.]]\n",
      "Array: [84 57  8 10 51 29 16 33 38 72 37 27 96 50  9 13  3 40 68 88]\n",
      "Top Five elements :  [96 88 84 72 68]\n"
     ]
    }
   ],
   "source": [
    "arr = np.linspace(0,1,10)\n",
    "print(arr)\n",
    "\n",
    "arr = np.eye(4)\n",
    "print(arr)\n",
    "\n",
    "arr = np.random.randint(1,101,20)\n",
    "print(\"Array:\",arr)\n",
    "arr.sort()\n",
    "print(\"Top Five elements : \" ,arr[-1:-6:-1])"
   ]
  },
  {
   "cell_type": "code",
   "execution_count": 36,
   "id": "4adcbda6",
   "metadata": {},
   "outputs": [],
   "source": [
    "#  Create a Python program that:  \n",
    "#       o Generates two large random arrays of size (100, 100). \n",
    "#       o Performs matrix multiplication on the two arrays. \n",
    "#       o Finds the determinant and inverse of the resulting matrix (if possible). \n",
    "#       o Measures the time taken to complete these operations."
   ]
  },
  {
   "cell_type": "code",
   "execution_count": 37,
   "id": "4db4944c",
   "metadata": {},
   "outputs": [
    {
     "name": "stdout",
     "output_type": "stream",
     "text": [
      "[[21.78978516 22.21448344 21.25352385 ... 25.62665571 22.90035423\n",
      "  24.3926466 ]\n",
      " [25.6179012  21.2581502  23.02076774 ... 26.15284849 23.25816587\n",
      "  25.33269358]\n",
      " [23.66101879 22.40193297 23.5288572  ... 25.12554705 22.31504137\n",
      "  22.87260451]\n",
      " ...\n",
      " [26.04522205 23.09572105 25.0838488  ... 28.69323254 25.41995655\n",
      "  24.76806286]\n",
      " [23.09794526 20.30971291 24.08685286 ... 26.54819866 22.4513845\n",
      "  23.88750113]\n",
      " [24.67751532 22.47195424 24.23290022 ... 26.61683738 23.62587766\n",
      "  25.23472836]]\n",
      "-9.222219892962574e+49\n",
      "[[ 5.64547663 -2.1621899   5.68175768 ...  7.67272122  4.43749622\n",
      "   5.59375516]\n",
      " [-5.35085503  0.67685234 -5.05843552 ... -8.19478006 -3.94179995\n",
      "  -4.26461896]\n",
      " [-5.61545676  2.54206597 -4.56588383 ... -6.4979039  -4.54588456\n",
      "  -7.18543939]\n",
      " ...\n",
      " [12.82376129 -3.72014063 11.54936099 ... 18.79369785 10.50191388\n",
      "  13.45094626]\n",
      " [-6.17543277  0.50888387 -6.57909756 ... -8.07930351 -2.99917683\n",
      "  -1.85429209]\n",
      " [-3.82246342  1.30067288 -4.20792744 ... -4.28686032 -2.40366\n",
      "  -2.34993305]]\n",
      "Total time taken to perform these operations :  0.05050849914550781\n"
     ]
    }
   ],
   "source": [
    "#Two large random arrays\n",
    "A = np.random.rand(100, 100)\n",
    "B = np.random.rand(100, 100)\n",
    "\n",
    "# Time before doing operations\n",
    "start_time = time.time()\n",
    "\n",
    "# Matrix multiplication\n",
    "print(np.matmul(A, B))\n",
    "\n",
    "# Determinant\n",
    "det = np.linalg.det(matrix_mul)\n",
    "print(det)\n",
    "\n",
    "# Inverse if determinant is not zero\n",
    "if det != 0:\n",
    "    inverse = np.linalg.inv(matrix_mul)\n",
    "    print(inverse)\n",
    "else:\n",
    "    print(\"Inverse does not exist.\")\n",
    "\n",
    "    print(\"Inverse computed successfully.\")\n",
    "\n",
    "# Time when these operations are done\n",
    "end_time = time.time()\n",
    "\n",
    "# Measuring total time = end-start\n",
    "total_time = end_time - start_time\n",
    "print(\"Total time taken to perform these operations : \" , total_time)"
   ]
  }
 ],
 "metadata": {
  "kernelspec": {
   "display_name": "Python 3",
   "language": "python",
   "name": "python3"
  },
  "language_info": {
   "codemirror_mode": {
    "name": "ipython",
    "version": 3
   },
   "file_extension": ".py",
   "mimetype": "text/x-python",
   "name": "python",
   "nbconvert_exporter": "python",
   "pygments_lexer": "ipython3",
   "version": "3.13.5"
  }
 },
 "nbformat": 4,
 "nbformat_minor": 5
}
